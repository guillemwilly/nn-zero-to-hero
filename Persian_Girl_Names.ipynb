{
  "nbformat": 4,
  "nbformat_minor": 0,
  "metadata": {
    "colab": {
      "provenance": [],
      "include_colab_link": true
    },
    "kernelspec": {
      "name": "python3",
      "display_name": "Python 3"
    },
    "language_info": {
      "name": "python"
    }
  },
  "cells": [
    {
      "cell_type": "markdown",
      "metadata": {
        "id": "view-in-github",
        "colab_type": "text"
      },
      "source": [
        "<a href=\"https://colab.research.google.com/github/guillemwilly/nn-zero-to-hero/blob/master/Persian_Girl_Names.ipynb\" target=\"_parent\"><img src=\"https://colab.research.google.com/assets/colab-badge.svg\" alt=\"Open In Colab\"/></a>"
      ]
    },
    {
      "cell_type": "code",
      "execution_count": 2,
      "metadata": {
        "id": "vowXRstocd8F"
      },
      "outputs": [],
      "source": [
        "import torch\n",
        "import torch.nn.functional as F\n",
        "import matplotlib.pyplot as plt # for making figures\n",
        "%matplotlib inline"
      ]
    },
    {
      "cell_type": "code",
      "source": [
        "# download the names.txt file from github\n",
        "!wget https://raw.githubusercontent.com/dadashzadeh/persian-names/main/name-girl.txt"
      ],
      "metadata": {
        "colab": {
          "base_uri": "https://localhost:8080/"
        },
        "id": "9Rlc3YeWcm_d",
        "outputId": "1df0f5ab-c307-432d-ddd0-2a0112406270"
      },
      "execution_count": 3,
      "outputs": [
        {
          "output_type": "stream",
          "name": "stdout",
          "text": [
            "--2024-03-04 20:20:45--  https://raw.githubusercontent.com/dadashzadeh/persian-names/main/name-girl.txt\n",
            "Resolving raw.githubusercontent.com (raw.githubusercontent.com)... 185.199.108.133, 185.199.109.133, 185.199.110.133, ...\n",
            "Connecting to raw.githubusercontent.com (raw.githubusercontent.com)|185.199.108.133|:443... connected.\n",
            "HTTP request sent, awaiting response... 200 OK\n",
            "Length: 71755 (70K) [text/plain]\n",
            "Saving to: ‘name-girl.txt’\n",
            "\n",
            "\rname-girl.txt         0%[                    ]       0  --.-KB/s               \rname-girl.txt       100%[===================>]  70.07K  --.-KB/s    in 0.02s   \n",
            "\n",
            "2024-03-04 20:20:46 (4.03 MB/s) - ‘name-girl.txt’ saved [71755/71755]\n",
            "\n"
          ]
        }
      ]
    },
    {
      "cell_type": "code",
      "source": [
        "words = open('name-girl.txt', 'r').read().splitlines()\n",
        "words[:8]"
      ],
      "metadata": {
        "id": "uH2MGP4FcidR",
        "colab": {
          "base_uri": "https://localhost:8080/"
        },
        "outputId": "f662ec95-9d74-4356-f59e-70075b62c7af"
      },
      "execution_count": 4,
      "outputs": [
        {
          "output_type": "execute_result",
          "data": {
            "text/plain": [
              "['فلور', 'دینه', 'پردیکا', 'الویرا', 'معینا', 'مهبان', 'چیلک', 'پویش']"
            ]
          },
          "metadata": {},
          "execution_count": 4
        }
      ]
    },
    {
      "cell_type": "code",
      "source": [
        "len(words)"
      ],
      "metadata": {
        "colab": {
          "base_uri": "https://localhost:8080/"
        },
        "id": "FbakoEqAcvnF",
        "outputId": "0d407dbe-4191-4f1c-a380-08c7072ba0c4"
      },
      "execution_count": 5,
      "outputs": [
        {
          "output_type": "execute_result",
          "data": {
            "text/plain": [
              "5548"
            ]
          },
          "metadata": {},
          "execution_count": 5
        }
      ]
    },
    {
      "cell_type": "code",
      "source": [
        "# build the vocabulary of characters and mappings to/from integers\n",
        "chars = sorted(list(set(''.join(words))))\n",
        "stoi = {s:i+1 for i,s in enumerate(chars)}\n",
        "stoi['.'] = 0\n",
        "itos = {i:s for s,i in stoi.items()}\n",
        "print(itos)"
      ],
      "metadata": {
        "colab": {
          "base_uri": "https://localhost:8080/"
        },
        "id": "EYnXhmWVcx-l",
        "outputId": "55877615-dfd9-46ad-fd82-94f07cebadfe"
      },
      "execution_count": 6,
      "outputs": [
        {
          "output_type": "stream",
          "name": "stdout",
          "text": [
            "{1: ' ', 2: '(', 3: ')', 4: '2', 5: '3', 6: '،', 7: 'ء', 8: 'آ', 9: 'أ', 10: 'ؤ', 11: 'ئ', 12: 'ا', 13: 'ب', 14: 'ة', 15: 'ت', 16: 'ث', 17: 'ج', 18: 'ح', 19: 'خ', 20: 'د', 21: 'ذ', 22: 'ر', 23: 'ز', 24: 'س', 25: 'ش', 26: 'ص', 27: 'ض', 28: 'ط', 29: 'ظ', 30: 'ع', 31: 'غ', 32: 'ف', 33: 'ق', 34: 'ك', 35: 'ل', 36: 'م', 37: 'ن', 38: 'ه', 39: 'و', 40: 'ي', 41: 'َ', 42: 'ُ', 43: 'ِ', 44: 'ّ', 45: 'ْ', 46: 'ٔ', 47: 'پ', 48: 'چ', 49: 'ژ', 50: 'ک', 51: 'گ', 52: 'ی', 53: '\\u200c', 0: '.'}\n"
          ]
        }
      ]
    },
    {
      "cell_type": "code",
      "source": [
        "# build the dataset\n",
        "block_size = 3 # context length: how many characters do we take to predict the next one?\n",
        "\n",
        "def build_dataset(words):\n",
        "  X, Y = [], []\n",
        "  for w in words:\n",
        "\n",
        "    #print(w)\n",
        "    context = [0] * block_size\n",
        "    for ch in w + '.':\n",
        "      ix = stoi[ch]\n",
        "      X.append(context)\n",
        "      Y.append(ix)\n",
        "      #print(''.join(itos[i] for i in context), '--->', itos[ix])\n",
        "      context = context[1:] + [ix] # crop and append\n",
        "\n",
        "  X = torch.tensor(X)\n",
        "  Y = torch.tensor(Y)\n",
        "  print(X.shape, Y.shape)\n",
        "  return X, Y\n",
        "\n",
        "import random\n",
        "random.seed(42)\n",
        "random.shuffle(words)\n",
        "n1 = int(0.8*len(words))\n",
        "n2 = int(0.9*len(words))\n",
        "\n",
        "Xtr, Ytr = build_dataset(words[:n1])\n",
        "Xdev, Ydev = build_dataset(words[n1:n2])\n",
        "Xte, Yte = build_dataset(words[n2:])"
      ],
      "metadata": {
        "colab": {
          "base_uri": "https://localhost:8080/"
        },
        "id": "MB5XgJxdczFi",
        "outputId": "f6f65a63-b822-42a6-b149-aab2629a5522"
      },
      "execution_count": 7,
      "outputs": [
        {
          "output_type": "stream",
          "name": "stdout",
          "text": [
            "torch.Size([28995, 3]) torch.Size([28995])\n",
            "torch.Size([3611, 3]) torch.Size([3611])\n",
            "torch.Size([3687, 3]) torch.Size([3687])\n"
          ]
        }
      ]
    },
    {
      "cell_type": "code",
      "source": [
        "g = torch.Generator().manual_seed(2147483647) # for reproducibility\n",
        "C = torch.randn((54, 10), generator=g)\n",
        "W1 = torch.randn((30, 200), generator=g)\n",
        "b1 = torch.randn(200, generator=g)\n",
        "W2 = torch.randn((200, 54), generator=g)\n",
        "b2 = torch.randn(54, generator=g)\n",
        "parameters = [C, W1, b1, W2, b2]"
      ],
      "metadata": {
        "id": "EAA0_oigc13X"
      },
      "execution_count": 8,
      "outputs": []
    },
    {
      "cell_type": "code",
      "source": [
        "sum(p.nelement() for p in parameters) # number of parameters in total"
      ],
      "metadata": {
        "colab": {
          "base_uri": "https://localhost:8080/"
        },
        "id": "_HcVef6-c5S4",
        "outputId": "a4d03a5b-5fdc-4f37-afa5-ff6703e5c9a3"
      },
      "execution_count": 9,
      "outputs": [
        {
          "output_type": "execute_result",
          "data": {
            "text/plain": [
              "17594"
            ]
          },
          "metadata": {},
          "execution_count": 9
        }
      ]
    },
    {
      "cell_type": "code",
      "source": [
        "for p in parameters:\n",
        "  p.requires_grad = True"
      ],
      "metadata": {
        "id": "coNBea1sc6tm"
      },
      "execution_count": 10,
      "outputs": []
    },
    {
      "cell_type": "code",
      "source": [
        "lre = torch.linspace(-3, 0, 1000)\n",
        "lrs = 10**lre"
      ],
      "metadata": {
        "id": "nFWpAj_9c9Yr"
      },
      "execution_count": 11,
      "outputs": []
    },
    {
      "cell_type": "code",
      "source": [
        "lri = []\n",
        "lossi = []\n",
        "stepi = []"
      ],
      "metadata": {
        "id": "t2huuyTudBlF"
      },
      "execution_count": 12,
      "outputs": []
    },
    {
      "cell_type": "code",
      "source": [
        "for i in range(200000):\n",
        "\n",
        "  # minibatch construct\n",
        "  ix = torch.randint(0, Xtr.shape[0], (32,))\n",
        "\n",
        "  # forward pass\n",
        "  emb = C[Xtr[ix]] # (32, 3, 2)\n",
        "  h = torch.tanh(emb.view(-1, 30) @ W1 + b1) # (32, 100)\n",
        "  logits = h @ W2 + b2 # (32, 54)\n",
        "  loss = F.cross_entropy(logits, Ytr[ix])\n",
        "  #print(loss.item())\n",
        "\n",
        "  # backward pass\n",
        "  for p in parameters:\n",
        "    p.grad = None\n",
        "  loss.backward()\n",
        "\n",
        "  # update\n",
        "  #lr = lrs[i]\n",
        "  lr = 0.1 if i < 100000 else 0.01\n",
        "  for p in parameters:\n",
        "    p.data += -lr * p.grad\n",
        "\n",
        "  # track stats\n",
        "  #lri.append(lre[i])\n",
        "  stepi.append(i)\n",
        "  lossi.append(loss.log10().item())\n",
        "\n",
        "#print(loss.item())"
      ],
      "metadata": {
        "id": "jiKD-PPOdClh"
      },
      "execution_count": 13,
      "outputs": []
    },
    {
      "cell_type": "code",
      "source": [
        "plt.plot(stepi, lossi)"
      ],
      "metadata": {
        "colab": {
          "base_uri": "https://localhost:8080/",
          "height": 447
        },
        "id": "ZBAYXZ_rdGIG",
        "outputId": "5fb5fe9e-237f-41f8-ee1f-0df95e112a56"
      },
      "execution_count": 14,
      "outputs": [
        {
          "output_type": "execute_result",
          "data": {
            "text/plain": [
              "[<matplotlib.lines.Line2D at 0x79b6bf3223b0>]"
            ]
          },
          "metadata": {},
          "execution_count": 14
        },
        {
          "output_type": "display_data",
          "data": {
            "text/plain": [
              "<Figure size 640x480 with 1 Axes>"
            ],
            "image/png": "[encoded data removed]"
          },
          "metadata": {}
        }
      ]
    },
    {
      "cell_type": "code",
      "source": [
        "# training loss\n",
        "emb = C[Xtr] # (32, 3, 2)\n",
        "h = torch.tanh(emb.view(-1, 30) @ W1 + b1) # (32, 100)\n",
        "logits = h @ W2 + b2 # (32, 27)\n",
        "loss = F.cross_entropy(logits, Ytr)\n",
        "loss"
      ],
      "metadata": {
        "colab": {
          "base_uri": "https://localhost:8080/"
        },
        "id": "ZlhYinNgdIVF",
        "outputId": "d66c2dce-4337-408c-c971-f2e20777d21a"
      },
      "execution_count": 37,
      "outputs": [
        {
          "output_type": "execute_result",
          "data": {
            "text/plain": [
              "tensor(1.8266, grad_fn=<NllLossBackward0>)"
            ]
          },
          "metadata": {},
          "execution_count": 37
        }
      ]
    },
    {
      "cell_type": "code",
      "source": [
        "# validation loss\n",
        "emb = C[Xdev] # (32, 3, 2)\n",
        "h = torch.tanh(emb.view(-1, 30) @ W1 + b1) # (32, 100)\n",
        "logits = h @ W2 + b2 # (32, 27)\n",
        "loss = F.cross_entropy(logits, Ydev)\n",
        "loss"
      ],
      "metadata": {
        "colab": {
          "base_uri": "https://localhost:8080/"
        },
        "id": "cJH3DDu4dLTM",
        "outputId": "bb6f606a-87f0-4f2b-cc5f-f2f3f7682fe3"
      },
      "execution_count": 38,
      "outputs": [
        {
          "output_type": "execute_result",
          "data": {
            "text/plain": [
              "tensor(2.4410, grad_fn=<NllLossBackward0>)"
            ]
          },
          "metadata": {},
          "execution_count": 38
        }
      ]
    },
    {
      "cell_type": "code",
      "source": [
        "# test loss\n",
        "emb = C[Xte] # (32, 3, 2)\n",
        "h = torch.tanh(emb.view(-1, 30) @ W1 + b1) # (32, 100)\n",
        "logits = h @ W2 + b2 # (32, 27)\n",
        "loss = F.cross_entropy(logits, Yte)\n",
        "loss"
      ],
      "metadata": {
        "colab": {
          "base_uri": "https://localhost:8080/"
        },
        "id": "DwOgCg1vdNhe",
        "outputId": "4dceed3f-64fd-4a09-cc71-d8b3f0a93841"
      },
      "execution_count": 39,
      "outputs": [
        {
          "output_type": "execute_result",
          "data": {
            "text/plain": [
              "tensor(2.4735, grad_fn=<NllLossBackward0>)"
            ]
          },
          "metadata": {},
          "execution_count": 39
        }
      ]
    },
    {
      "cell_type": "code",
      "source": [
        "# visualize dimensions 0 and 1 of the embedding matrix C for all characters\n",
        "plt.figure(figsize=(8,8))\n",
        "plt.scatter(C[:,0].data, C[:,1].data, s=200)\n",
        "for i in range(C.shape[0]):\n",
        "    plt.text(C[i,0].item(), C[i,1].item(), itos[i], ha=\"center\", va=\"center\", color='white')\n",
        "plt.grid('minor')"
      ],
      "metadata": {
        "colab": {
          "base_uri": "https://localhost:8080/",
          "height": 676
        },
        "id": "CCWLYP9GdPP4",
        "outputId": "08b7fee7-f213-43cd-cc75-b438d546cd86"
      },
      "execution_count": 40,
      "outputs": [
        {
          "output_type": "display_data",
          "data": {
            "text/plain": [
              "<Figure size 800x800 with 1 Axes>"
            ],
            "image/png": "[encoded data removed]"
          },
          "metadata": {}
        }
      ]
    },
    {
      "cell_type": "code",
      "source": [
        "# sample from the model\n",
        "g = torch.Generator().manual_seed(2147483647 + 10)\n",
        "\n",
        "for _ in range(100):\n",
        "\n",
        "    out = []\n",
        "    context = [0] * block_size # initialize with all ...\n",
        "    while True:\n",
        "      emb = C[torch.tensor([context])] # (1,block_size,d)\n",
        "      h = torch.tanh(emb.view(1, -1) @ W1 + b1)\n",
        "      logits = h @ W2 + b2\n",
        "      probs = F.softmax(logits, dim=1)\n",
        "      ix = torch.multinomial(probs, num_samples=1, generator=g).item()\n",
        "      context = context[1:] + [ix]\n",
        "      out.append(ix)\n",
        "      if ix == 0:\n",
        "        break\n",
        "\n",
        "    print(''.join(itos[i] for i in out))"
      ],
      "metadata": {
        "colab": {
          "base_uri": "https://localhost:8080/"
        },
        "id": "TQUMmgRrdRIA",
        "outputId": "58cbfa28-296f-43ea-a013-24e2e11be4ee"
      },
      "execution_count": 42,
      "outputs": [
        {
          "output_type": "stream",
          "name": "stdout",
          "text": [
            "گلچهرچخن گل.\n",
            "صدر.\n",
            "کامیهانین.\n",
            "گل خاتون.\n",
            "ایل.\n",
            "فرچهر.\n",
            "بلار.\n",
            "آفرین دا.\n",
            "آوین.\n",
            "مجین ناز.\n",
            "چدا.\n",
            "بژوفان.\n",
            "شمس السا.\n",
            "گران دخت.\n",
            "وان.\n",
            "زرارگل.\n",
            "فرخ میه.\n",
            "مهر آفریهش.\n",
            "آذربوا.\n",
            "گل مهر.\n",
            "خرام بانوش.\n",
            "میلالهه.\n",
            "آنیتا.\n",
            "ارک.\n",
            "محبوه.\n",
            "گره.\n",
            "رورتاج.\n",
            "ثمیل.\n",
            "چلچلستاتین.\n",
            "سرگل.\n",
            "همایدا.\n",
            "سرور.\n",
            "حورا.\n",
            "ویل.\n",
            "تحکه.\n",
            "رخشادروان.\n",
            "ناد.\n",
            "هادیا.\n",
            "آلین.\n",
            "گل بانده.\n",
            "دلرینا.\n",
            "رای.\n",
            "بهار.\n",
            "مین دخت.\n",
            "آسیما.\n",
            "روژه.\n",
            "آنائله.\n",
            "مایلادان.\n",
            "هلز.\n",
            "لیوانرینا.\n",
            "نور الزمان.\n",
            "تادخت.\n",
            "پريبا.\n",
            "لوویات.\n",
            "مهدی.\n",
            "شوخایه.\n",
            "شیریار.\n",
            "رُرنج.\n",
            "زرخ.\n",
            "صفورور.\n",
            "چکان.\n",
            "دلیله رخ.\n",
            "افشان دخت.\n",
            "تمنُ.\n",
            "سند.\n",
            "انگ.\n",
            "فان.\n",
            "نگار.\n",
            "خزردآفریضه.\n",
            "فخنّه.\n",
            "زرانه فروز.\n",
            "فته.\n",
            "فیژا.\n",
            "دل پنونگ.\n",
            "پربه.\n",
            "فان.\n",
            "دُرفام.\n",
            "آترین.\n",
            "هایته.\n",
            "چهره.\n",
            "اشميما.\n",
            "مان.\n",
            "مهربخش.\n",
            "توفا.\n",
            "ناز.\n",
            "آزرمیل.\n",
            "الیالان.\n",
            "عالین.\n",
            "موناینا.\n",
            "لیا.\n",
            "نوش.\n",
            "راواندخت.\n",
            "نسی.\n",
            "توسانا.\n",
            "هور.\n",
            "جنگک.\n",
            "شروفه.\n",
            "ماجاروینارگل.\n",
            "آپام.\n",
            "شهدیبارین نوش.\n"
          ]
        }
      ]
    },
    {
      "cell_type": "code",
      "source": [],
      "metadata": {
        "id": "iwENKZS7dT_5"
      },
      "execution_count": null,
      "outputs": []
    }
  ]
}